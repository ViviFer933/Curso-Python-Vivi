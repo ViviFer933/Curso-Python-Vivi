{
 "cells": [
  {
   "cell_type": "markdown",
   "metadata": {},
   "source": [
    "## Ejercicios sobre Funciones"
   ]
  },
  {
   "cell_type": "markdown",
   "metadata": {},
   "source": [
    "### 1. Función \"Multiplicar lista\"\n",
    "Escribe una función llamada `multiplicar_lista` que reciba una lista de números y un número entero, y devuelva una nueva lista con cada número multiplicado por el entero."
   ]
  },
  {
   "cell_type": "code",
   "execution_count": 5,
   "metadata": {},
   "outputs": [],
   "source": [
    "def multiplicar_lista(lista, entero):\n",
    "    nueva_lista = []  # Lista vacía para almacenar los resultados\n",
    "    for numero in lista:\n",
    "        nueva_lista.append(numero * n )  # Multiplica cada número por el entero y lo añade a la nueva lista\n",
    "    return nueva_lista\n"
   ]
  },
  {
   "cell_type": "code",
   "execution_count": 6,
   "metadata": {},
   "outputs": [
    {
     "name": "stdout",
     "output_type": "stream",
     "text": [
      "[3, 6, 9, 12, 15]\n"
     ]
    }
   ],
   "source": [
    "# Ejemplo de uso\n",
    "numeros = [1, 2, 3, 4, 5]\n",
    "n = 3\n",
    "resultado = multiplicar_lista(numeros, n )\n",
    "print(resultado)  # [3, 6, 9, 12, 15]"
   ]
  },
  {
   "cell_type": "markdown",
   "metadata": {},
   "source": [
    "### 2. Función \"Contar vocales\"\n",
    "Escribe una función llamada `contar_vocales` que reciba una cadena de texto y devuelva el número de vocales que contiene."
   ]
  },
  {
   "cell_type": "code",
   "execution_count": null,
   "metadata": {},
   "outputs": [],
   "source": [
    "def contar_vocales(cadena):\n",
    "    # Tu código aquí\n",
    "    pass\n",
    "\n",
    "# Prueba la función\n",
    "resultado = contar_vocales(\"Python es divertido\")\n",
    "print(resultado)  # Output esperado: 6"
   ]
  },
  {
   "cell_type": "code",
   "execution_count": 7,
   "metadata": {},
   "outputs": [],
   "source": [
    "def contar_vocales(cadena):\n",
    "    vocales = \"aeiouAEIOU\"  # Definimos las vocales, incluyendo mayúsculas y minúsculas\n",
    "    contador = 0  # Inicializamos el contador de vocales\n",
    "    \n",
    "    for letra in cadena:\n",
    "        if letra in vocales:  # Si la letra es una vocal, incrementamos el contador\n",
    "            contador += 1\n",
    "            \n",
    "    return contador"
   ]
  },
  {
   "cell_type": "code",
   "execution_count": 8,
   "metadata": {},
   "outputs": [
    {
     "name": "stdout",
     "output_type": "stream",
     "text": [
      "7\n"
     ]
    }
   ],
   "source": [
    "texto = \"Paython es divertido\"\n",
    "resultado = contar_vocales(texto)\n",
    "print(resultado)  # 7"
   ]
  },
  {
   "cell_type": "markdown",
   "metadata": {},
   "source": [
    "### 3. Combinación de funciones con listas y condicionales\n",
    "Crea una función llamada `filtrar_pares` que reciba una lista de números y devuelva solo los números pares. Luego, crea una segunda función llamada `sumar_lista` que reciba una lista de números y devuelva su suma total."
   ]
  },
  {
   "cell_type": "code",
   "execution_count": 16,
   "metadata": {},
   "outputs": [],
   "source": [
    "def filtrar_pares(lista):\n",
    "    pares = []  # Lista vacía para almacenar los números pares\n",
    "    for numero in lista:\n",
    "        if numero % 2 == 0:  # Si el número es par (divisible por 2), lo añadimos a la lista\n",
    "            pares.append(numero)\n",
    "    return pares\n",
    "\n",
    "def sumar_lista(lista):\n",
    "    suma_total = 0  # Inicializamos la suma en 0\n",
    "    for numero in lista:\n",
    "        suma_total += numero  # Sumamos cada número de la lista a la variable suma_total\n",
    "    return suma_total\n",
    "\n"
   ]
  },
  {
   "cell_type": "code",
   "execution_count": 17,
   "metadata": {},
   "outputs": [
    {
     "name": "stdout",
     "output_type": "stream",
     "text": [
      "[2, 4, 6, 8]\n",
      "20\n"
     ]
    }
   ],
   "source": [
    "# Prueba las funciones\n",
    "numeros = [1, 2, 3, 4, 5, 6, 7, 8]\n",
    "pares = filtrar_pares(numeros)\n",
    "suma_pares = sumar_lista(pares)\n",
    "print(pares)  # Output esperado: [2, 4, 6, 8]\n",
    "print(suma_pares)  # Output esperado: 20"
   ]
  },
  {
   "cell_type": "markdown",
   "metadata": {},
   "source": [
    "### 4. Función con tuplas y condicionales\n",
    "Escribe una función llamada `mejor_alumno` que reciba una lista de tuplas, donde cada tupla contiene el nombre del alumno y su promedio. La función debe devolver el nombre del alumno con el mayor promedio."
   ]
  },
  {
   "cell_type": "code",
   "execution_count": null,
   "metadata": {},
   "outputs": [],
   "source": [
    "def mejor_alumno(lista_alumnos):\n",
    "    # Tu código aquí\n",
    "    pass\n",
    "\n",
    "# Prueba la función\n",
    "alumnos = [(\"Ana\", 8.5), (\"Luis\", 7.2), (\"Jorge\", 9.1), (\"Marta\", 8.9)]\n",
    "mejor = mejor_alumno(alumnos)\n",
    "print(mejor)  # Output esperado: \"Jorge\""
   ]
  },
  {
   "cell_type": "code",
   "execution_count": 13,
   "metadata": {},
   "outputs": [],
   "source": [
    "def mejor_alumno(lista_alumnos):\n",
    "    mejor_nombre = \"\"\n",
    "    mejor_promedio = -1  # Inicializamos con un valor muy bajo para comparar\n",
    "\n",
    "    for alumno, promedio in lista_alumnos:\n",
    "        if promedio > mejor_promedio:\n",
    "            mejor_promedio = promedio  # Actualizamos el mejor promedio\n",
    "            mejor_nombre = alumno  # Actualizamos el nombre del mejor alumno\n",
    "\n",
    "    return mejor_nombre, mejor_promedio "
   ]
  },
  {
   "cell_type": "code",
   "execution_count": 15,
   "metadata": {},
   "outputs": [
    {
     "name": "stdout",
     "output_type": "stream",
     "text": [
      "El mejor alumno es Jorge con un promedio de 9.1.\n"
     ]
    }
   ],
   "source": [
    "# Ejemplo de uso\n",
    "alumnos = [(\"Ana\", 8.5), (\"Luis\", 7.2), (\"Jorge\", 9.1), (\"Marta\", 8.9)]\n",
    "nombre, promedio = mejor_alumno(alumnos)\n",
    "print(f\"El mejor alumno es {nombre} con un promedio de {promedio}.\")"
   ]
  },
  {
   "cell_type": "markdown",
   "metadata": {},
   "source": [
    "### 5. Combinación de listas, condicionales y control de flujo\n",
    "Escribe una función llamada `aprobar_alumnos` que reciba una lista de tuplas, donde cada tupla contiene el nombre del alumno y su promedio. La función debe devolver una lista con los nombres de los alumnos que han aprobado (nota mayor o igual a 6)."
   ]
  },
  {
   "cell_type": "code",
   "execution_count": null,
   "metadata": {},
   "outputs": [],
   "source": [
    "def aprobar_alumnos(lista_alumnos):\n",
    "    # Tu código aquí\n",
    "    pass\n",
    "\n",
    "# Prueba la función\n",
    "alumnos = [(\"Ana\", 8.5), (\"Luis\", 4.2), (\"Jorge\", 6.1), (\"Marta\", 5.9)]\n",
    "aprobados = aprobar_alumnos(alumnos)\n",
    "print(aprobados)  # Output esperado: [\"Ana\", \"Jorge\"]"
   ]
  },
  {
   "cell_type": "markdown",
   "metadata": {},
   "source": [
    "## Ejercicio sobre Clases\n",
    "\n",
    "### 6. Clase \"Producto\"\n",
    "Crea una clase llamada `Producto` que tenga los atributos `nombre`, `precio` y `stock`. Define un método llamado `vender` que disminuya el stock en una cantidad dada. Si el stock no es suficiente para cubrir la venta, muestra un mensaje indicando que no hay suficiente stock."
   ]
  },
  {
   "cell_type": "code",
   "execution_count": null,
   "metadata": {},
   "outputs": [],
   "source": [
    "class Producto:\n",
    "    def __init__(self, nombre, precio, stock):\n",
    "        # Inicializa los atributos\n",
    "        pass\n",
    "    \n",
    "    def vender(self, cantidad):\n",
    "        # Vende una cantidad del producto\n",
    "        pass\n",
    "\n",
    "# Prueba la clase\n",
    "producto1 = Producto(\"Laptop\", 1000, 10)\n",
    "producto1.vender(3)\n",
    "producto1.vender(8)  # Debería mostrar un mensaje de stock insuficiente"
   ]
  },
  {
   "cell_type": "code",
   "execution_count": 18,
   "metadata": {},
   "outputs": [],
   "source": [
    "class Producto:\n",
    "    def __init__(self, nombre, precio, stock):\n",
    "        self.nombre = nombre  # Nombre del producto\n",
    "        self.precio = precio  # Precio del producto\n",
    "        self.stock = stock    # Cantidad disponible en stock\n",
    "\n",
    "    def vender(self, cantidad):\n",
    "        if cantidad > self.stock:\n",
    "            print(f\"No hay suficiente stock de {self.nombre}. Stock disponible: {self.stock}.\")\n",
    "        else:\n",
    "            self.stock -= cantidad  # Disminuye el stock por la cantidad vendida\n",
    "            print(f\"Se han vendido {cantidad} unidades de {self.nombre}. Stock restante: {self.stock}.\")"
   ]
  },
  {
   "cell_type": "code",
   "execution_count": 20,
   "metadata": {},
   "outputs": [
    {
     "name": "stdout",
     "output_type": "stream",
     "text": [
      "Se han vendido 3 unidades de Laptop. Stock restante: 7.\n",
      "No hay suficiente stock de Laptop. Stock disponible: 7.\n"
     ]
    }
   ],
   "source": [
    "# Ejemplo de uso\n",
    "producto = Producto(\"Laptop\", 1000, 10)\n",
    "\n",
    "# Intentar vender 5 camisetas\n",
    "producto.vender(3)  # Se han vendido 5 unidades de Camiseta. Stock restante: 5.\n",
    "\n",
    "# Intentar vender 7 camisetas\n",
    "producto.vender(8)  # No hay suficiente stock de Camiseta. Stock disponible: 5."
   ]
  },
  {
   "cell_type": "markdown",
   "metadata": {},
   "source": [
    "## Ejercicio de Investigación\n",
    "\n",
    "### 7. Investigación: Funciones recursivas\n",
    "Investiga qué es una **función recursiva** y cómo funciona en Python. Implementa una función recursiva que calcule el **factorial** de un número dado. Ejemplo: `factorial(5)` debería devolver 120."
   ]
  },
  {
   "cell_type": "code",
   "execution_count": 2,
   "metadata": {},
   "outputs": [
    {
     "name": "stdout",
     "output_type": "stream",
     "text": [
      "None\n"
     ]
    }
   ],
   "source": [
    "def factorial(n):\n",
    "    # Tu código aquí\n",
    "    pass\n",
    "\n",
    "# Prueba la función\n",
    "print(factorial(5))  # Output esperado: 120"
   ]
  },
  {
   "cell_type": "code",
   "execution_count": 21,
   "metadata": {},
   "outputs": [],
   "source": [
    "def factorial(n):\n",
    "    if n == 0:  # Caso base\n",
    "        return 1\n",
    "    else:  # Llamada recursiva\n",
    "        return n * factorial(n - 1)"
   ]
  },
  {
   "cell_type": "code",
   "execution_count": 22,
   "metadata": {},
   "outputs": [
    {
     "name": "stdout",
     "output_type": "stream",
     "text": [
      "120\n"
     ]
    }
   ],
   "source": [
    "# Ejemplo de uso\n",
    "resultado = factorial(5)\n",
    "print(resultado)  # 120"
   ]
  }
 ],
 "metadata": {
  "kernelspec": {
   "display_name": "curso-ine",
   "language": "python",
   "name": "python3"
  },
  "language_info": {
   "codemirror_mode": {
    "name": "ipython",
    "version": 3
   },
   "file_extension": ".py",
   "mimetype": "text/x-python",
   "name": "python",
   "nbconvert_exporter": "python",
   "pygments_lexer": "ipython3",
   "version": "3.12.6"
  }
 },
 "nbformat": 4,
 "nbformat_minor": 2
}
